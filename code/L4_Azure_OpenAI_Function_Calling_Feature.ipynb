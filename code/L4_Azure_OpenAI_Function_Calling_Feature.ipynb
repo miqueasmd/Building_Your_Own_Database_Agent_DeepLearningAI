{
 "cells": [
  {
   "cell_type": "markdown",
   "id": "97086e6f",
   "metadata": {},
   "source": [
    "# Lesson 4: Azure OpenAI Function Calling Feature"
   ]
  },
  {
   "cell_type": "markdown",
   "id": "fe2677c5",
   "metadata": {},
   "source": [
    "## Setup"
   ]
  },
  {
   "cell_type": "markdown",
   "id": "6b9a66f8",
   "metadata": {},
   "source": [
    "**Note**: The pre-configured cloud resource grants you access to the Azure OpenAI GPT model. The key and endpoint provided below are intended for teaching purposes only. Your notebook environment is already set up with the necessary keys, which may differ from those used by the instructor during the filming."
   ]
  },
  {
   "cell_type": "code",
   "execution_count": 2,
   "id": "f871d539-bb14-4f6b-9212-1222a1227a35",
   "metadata": {
    "height": 166
   },
   "outputs": [],
   "source": [
    "import os\n",
    "from openai import AzureOpenAI\n",
    "import json\n",
    "\n",
    "client = AzureOpenAI(\n",
    "    api_version=\"2024-05-01-preview\",\n",
    "    azure_deployment=\"gpt-35-turbo\",\n",
    "    azure_endpoint=os.getenv(\"AZURE_OPENAI_ENDPOINT\"),\n",
    "    api_key = os.getenv(\"AZURE_OPENAI_API_KEY\"),\n",
    ")"
   ]
  },
  {
   "cell_type": "markdown",
   "id": "4673778b",
   "metadata": {},
   "source": [
    "## 1. Using an illustrative example"
   ]
  },
  {
   "cell_type": "code",
   "execution_count": 3,
   "id": "c7f93802-cb53-42cd-b79b-a8b144f73efb",
   "metadata": {
    "height": 370
   },
   "outputs": [
    {
     "data": {
      "text/plain": [
       "'{\"location\": \"New York\", \"temperature\": \"40\", \"unit\": \"fahrenheit\"}'"
      ]
     },
     "execution_count": 3,
     "metadata": {},
     "output_type": "execute_result"
    }
   ],
   "source": [
    "def get_current_weather(location, unit=\"fahrenheit\"):\n",
    "    \"\"\"Get the current weather in a given location. \n",
    "    The default unit when not specified is fahrenheit\"\"\"\n",
    "    if \"new york\" in location.lower():\n",
    "        return json.dumps(\n",
    "            {\"location\": \"New York\", \"temperature\": \"40\", \"unit\": unit}\n",
    "        )\n",
    "    elif \"san francisco\" in location.lower():\n",
    "        return json.dumps(\n",
    "            {\"location\": \"San Francisco\", \"temperature\": \"50\", \"unit\": unit}\n",
    "        )\n",
    "    elif \"las vegas\" in location.lower():\n",
    "        return json.dumps(\n",
    "            {\"location\": \"Las Vegas\", \"temperature\": \"70\", \"unit\": unit}\n",
    "        )\n",
    "    else:\n",
    "        return json.dumps(\n",
    "            {\"location\": location, \"temperature\": \"unknown\"}\n",
    "        )\n",
    "\n",
    "get_current_weather(\"New York\")"
   ]
  },
  {
   "cell_type": "markdown",
   "id": "4aa6f455",
   "metadata": {},
   "source": [
    "### Define the tools"
   ]
  },
  {
   "cell_type": "code",
   "execution_count": 4,
   "id": "f37fd6aa-ce79-4f01-bb96-ccb1b5425743",
   "metadata": {
    "height": 676
   },
   "outputs": [],
   "source": [
    "messages = [\n",
    "    {\"role\": \"user\",\n",
    "     \"content\": \"\"\"What's the weather like in San Francisco,\n",
    "                   New York, and Las Vegass?\"\"\"\n",
    "    }\n",
    "]\n",
    "\n",
    "tools = [\n",
    "    {\n",
    "        \"type\": \"function\",\n",
    "        \"function\": {\n",
    "            \"name\": \"get_current_weather\",\n",
    "            \"description\": \"\"\"Get the current weather in a given\n",
    "                              location.The default unit when not\n",
    "                              specified is fahrenheit\"\"\",\n",
    "            \"parameters\": {\n",
    "                \"type\": \"object\",\n",
    "                \"properties\": {\n",
    "                    \"location\": {\n",
    "                        \"type\": \"string\",\n",
    "                        \"description\": \"\"\"The city and state,\n",
    "                                        e.g. San Francisco, CA\"\"\",\n",
    "                    },\n",
    "                    \"unit\": {\n",
    "                        \"type\": \"string\",\n",
    "                        \"default\":\"fahrenheit\",\n",
    "                        \"enum\": [ \"fahrenheit\", \"celsius\"],\n",
    "                        \"description\": \"\"\"The messuring unit for\n",
    "                                          the temperature.\n",
    "                                          If not explicitly specified\n",
    "                                          the default unit is \n",
    "                                          fahrenheit\"\"\"\n",
    "                    },\n",
    "                },\n",
    "                \"required\": [\"location\"],\n",
    "            },\n",
    "        },\n",
    "    }\n",
    "]"
   ]
  },
  {
   "cell_type": "markdown",
   "id": "04d25317",
   "metadata": {},
   "source": [
    "### Use the function calling"
   ]
  },
  {
   "cell_type": "code",
   "execution_count": 5,
   "id": "0c4b13fc-aec6-4753-9cb7-d93243ba4a4d",
   "metadata": {
    "height": 608
   },
   "outputs": [
    {
     "name": "stdout",
     "output_type": "stream",
     "text": [
      "[ChatCompletionMessageToolCall(id='call_zT1AreLNyc9MqdrV7fDoVkPN', function=Function(arguments='{\\n  \"location\": \"San Francisco, CA\"\\n}', name='get_current_weather'), type='function')]\n",
      "[{'role': 'user', 'content': \"What's the weather like in San Francisco,\\n                   New York, and Las Vegass?\"}, ChatCompletionMessage(content=None, role='assistant', function_call=None, tool_calls=[ChatCompletionMessageToolCall(id='call_zT1AreLNyc9MqdrV7fDoVkPN', function=Function(arguments='{\\n  \"location\": \"San Francisco, CA\"\\n}', name='get_current_weather'), type='function')]), {'tool_call_id': 'call_zT1AreLNyc9MqdrV7fDoVkPN', 'role': 'tool', 'name': 'get_current_weather', 'content': '{\"location\": \"San Francisco\", \"temperature\": \"50\", \"unit\": null}'}]\n"
     ]
    }
   ],
   "source": [
    "response = client.chat.completions.create(\n",
    "    model=\"gpt-35-turbo\",\n",
    "    messages=messages,\n",
    "    tools=tools,\n",
    "    tool_choice=\"auto\", \n",
    ")\n",
    "\n",
    "response_message = response.choices[0].message\n",
    "tool_calls = response_message.tool_calls\n",
    "\n",
    "if tool_calls:\n",
    "    print (tool_calls)\n",
    "    \n",
    "    available_functions = {\n",
    "        \"get_current_weather\": get_current_weather,\n",
    "    } \n",
    "    messages.append(response_message)  \n",
    "    \n",
    "    for tool_call in tool_calls:\n",
    "        function_name = tool_call.function.name\n",
    "        function_to_call = available_functions[function_name]\n",
    "        function_args = json.loads(tool_call.function.arguments)\n",
    "        function_response = function_to_call(\n",
    "            location=function_args.get(\"location\"),\n",
    "            unit=function_args.get(\"unit\"),\n",
    "        )\n",
    "        messages.append(\n",
    "            {\n",
    "                \"tool_call_id\": tool_call.id,\n",
    "                \"role\": \"tool\",\n",
    "                \"name\": function_name,\n",
    "                \"content\": function_response,\n",
    "            }\n",
    "        )  \n",
    "    print (messages)"
   ]
  },
  {
   "cell_type": "code",
   "execution_count": 6,
   "id": "73d48df7-7eeb-4d5e-ab95-4ae5c1071ded",
   "metadata": {
    "height": 98
   },
   "outputs": [
    {
     "name": "stdout",
     "output_type": "stream",
     "text": [
      "ChatCompletion(id='chatcmpl-Aq0EzgnQFSSz1cdDFC5bSyW9251TQ', choices=[Choice(finish_reason='stop', index=0, logprobs=None, message=ChatCompletionMessage(content='The current weather in San Francisco, CA is 50°F.', role='assistant', function_call=None, tool_calls=None), content_filter_results={'hate': {'filtered': False, 'severity': 'safe'}, 'protected_material_code': {'filtered': False, 'detected': False}, 'protected_material_text': {'filtered': False, 'detected': False}, 'self_harm': {'filtered': False, 'severity': 'safe'}, 'sexual': {'filtered': False, 'severity': 'safe'}, 'violence': {'filtered': False, 'severity': 'safe'}})], created=1736957345, model='gpt-35-turbo', object='chat.completion', system_fingerprint=None, usage=CompletionUsage(completion_tokens=13, prompt_tokens=71, total_tokens=84), prompt_filter_results=[{'prompt_index': 0, 'content_filter_results': {'hate': {'filtered': False, 'severity': 'safe'}, 'jailbreak': {'filtered': False, 'detected': False}, 'self_harm': {'filtered': False, 'severity': 'safe'}, 'sexual': {'filtered': False, 'severity': 'safe'}, 'violence': {'filtered': False, 'severity': 'safe'}}}])\n"
     ]
    }
   ],
   "source": [
    "second_response = client.chat.completions.create(\n",
    "            model=\"gpt-35-turbo\",\n",
    "            messages=messages,\n",
    "        )\n",
    "print (second_response)"
   ]
  },
  {
   "cell_type": "markdown",
   "id": "cdcafa56",
   "metadata": {},
   "source": [
    "## 2. Using our SQL database "
   ]
  },
  {
   "cell_type": "markdown",
   "id": "3fffee20",
   "metadata": {},
   "source": [
    "**Note**: To access the data locally, use the following code:\n",
    "\n",
    "```\n",
    "os.makedirs(\"data\",exist_ok=True)\n",
    "!wget https://covidtracking.com/data/download/all-states-history.csv -P ./data/\n",
    "file_url = \"./data/all-states-history.csv\"\n",
    "df = pd.read_csv(file_url).fillna(value = 0)\n",
    "```"
   ]
  },
  {
   "cell_type": "code",
   "execution_count": 7,
   "id": "5a418bfc",
   "metadata": {},
   "outputs": [],
   "source": [
    "data_path = os.getenv(\"DATA_PATH\")\n",
    "csv_path = os.path.join(data_path, \"all-states-history.csv\")"
   ]
  },
  {
   "cell_type": "code",
   "execution_count": 8,
   "id": "28b73aa0-5eb6-419c-9637-d66a916979d9",
   "metadata": {
    "height": 81
   },
   "outputs": [
    {
     "data": {
      "text/html": [
       "<div>\n",
       "<style scoped>\n",
       "    .dataframe tbody tr th:only-of-type {\n",
       "        vertical-align: middle;\n",
       "    }\n",
       "\n",
       "    .dataframe tbody tr th {\n",
       "        vertical-align: top;\n",
       "    }\n",
       "\n",
       "    .dataframe thead th {\n",
       "        text-align: right;\n",
       "    }\n",
       "</style>\n",
       "<table border=\"1\" class=\"dataframe\">\n",
       "  <thead>\n",
       "    <tr style=\"text-align: right;\">\n",
       "      <th></th>\n",
       "      <th>date</th>\n",
       "      <th>state</th>\n",
       "      <th>death</th>\n",
       "      <th>hospitalized</th>\n",
       "      <th>negative</th>\n",
       "      <th>positive</th>\n",
       "      <th>recovered</th>\n",
       "    </tr>\n",
       "  </thead>\n",
       "  <tbody>\n",
       "    <tr>\n",
       "      <th>0</th>\n",
       "      <td>3/7/2021</td>\n",
       "      <td>AK</td>\n",
       "      <td>305</td>\n",
       "      <td>1293.0</td>\n",
       "      <td>0.0</td>\n",
       "      <td>56886</td>\n",
       "      <td>0.0</td>\n",
       "    </tr>\n",
       "    <tr>\n",
       "      <th>1</th>\n",
       "      <td>3/7/2021</td>\n",
       "      <td>AL</td>\n",
       "      <td>10148</td>\n",
       "      <td>45976.0</td>\n",
       "      <td>1931711.0</td>\n",
       "      <td>499819</td>\n",
       "      <td>295690.0</td>\n",
       "    </tr>\n",
       "    <tr>\n",
       "      <th>2</th>\n",
       "      <td>3/7/2021</td>\n",
       "      <td>AR</td>\n",
       "      <td>5319</td>\n",
       "      <td>14926.0</td>\n",
       "      <td>2480716.0</td>\n",
       "      <td>324818</td>\n",
       "      <td>315517.0</td>\n",
       "    </tr>\n",
       "    <tr>\n",
       "      <th>3</th>\n",
       "      <td>3/7/2021</td>\n",
       "      <td>AS</td>\n",
       "      <td>0</td>\n",
       "      <td>0.0</td>\n",
       "      <td>2140.0</td>\n",
       "      <td>0</td>\n",
       "      <td>0.0</td>\n",
       "    </tr>\n",
       "    <tr>\n",
       "      <th>4</th>\n",
       "      <td>3/7/2021</td>\n",
       "      <td>AZ</td>\n",
       "      <td>16328</td>\n",
       "      <td>57907.0</td>\n",
       "      <td>3073010.0</td>\n",
       "      <td>826454</td>\n",
       "      <td>0.0</td>\n",
       "    </tr>\n",
       "    <tr>\n",
       "      <th>5</th>\n",
       "      <td>3/7/2021</td>\n",
       "      <td>CA</td>\n",
       "      <td>54124</td>\n",
       "      <td>0.0</td>\n",
       "      <td>0.0</td>\n",
       "      <td>3501394</td>\n",
       "      <td>0.0</td>\n",
       "    </tr>\n",
       "    <tr>\n",
       "      <th>6</th>\n",
       "      <td>3/7/2021</td>\n",
       "      <td>CO</td>\n",
       "      <td>5989</td>\n",
       "      <td>23904.0</td>\n",
       "      <td>2199458.0</td>\n",
       "      <td>436602</td>\n",
       "      <td>0.0</td>\n",
       "    </tr>\n",
       "    <tr>\n",
       "      <th>7</th>\n",
       "      <td>3/7/2021</td>\n",
       "      <td>CT</td>\n",
       "      <td>7704</td>\n",
       "      <td>0.0</td>\n",
       "      <td>0.0</td>\n",
       "      <td>285330</td>\n",
       "      <td>0.0</td>\n",
       "    </tr>\n",
       "    <tr>\n",
       "      <th>8</th>\n",
       "      <td>3/7/2021</td>\n",
       "      <td>DC</td>\n",
       "      <td>1030</td>\n",
       "      <td>0.0</td>\n",
       "      <td>0.0</td>\n",
       "      <td>41419</td>\n",
       "      <td>29570.0</td>\n",
       "    </tr>\n",
       "    <tr>\n",
       "      <th>9</th>\n",
       "      <td>3/7/2021</td>\n",
       "      <td>DE</td>\n",
       "      <td>1473</td>\n",
       "      <td>0.0</td>\n",
       "      <td>545070.0</td>\n",
       "      <td>88354</td>\n",
       "      <td>0.0</td>\n",
       "    </tr>\n",
       "    <tr>\n",
       "      <th>10</th>\n",
       "      <td>3/7/2021</td>\n",
       "      <td>FL</td>\n",
       "      <td>32266</td>\n",
       "      <td>82237.0</td>\n",
       "      <td>9339038.0</td>\n",
       "      <td>1909209</td>\n",
       "      <td>0.0</td>\n",
       "    </tr>\n",
       "    <tr>\n",
       "      <th>11</th>\n",
       "      <td>3/7/2021</td>\n",
       "      <td>GA</td>\n",
       "      <td>17906</td>\n",
       "      <td>56797.0</td>\n",
       "      <td>0.0</td>\n",
       "      <td>1023487</td>\n",
       "      <td>0.0</td>\n",
       "    </tr>\n",
       "    <tr>\n",
       "      <th>12</th>\n",
       "      <td>3/7/2021</td>\n",
       "      <td>GU</td>\n",
       "      <td>133</td>\n",
       "      <td>0.0</td>\n",
       "      <td>112887.0</td>\n",
       "      <td>7749</td>\n",
       "      <td>7590.0</td>\n",
       "    </tr>\n",
       "    <tr>\n",
       "      <th>13</th>\n",
       "      <td>3/7/2021</td>\n",
       "      <td>HI</td>\n",
       "      <td>445</td>\n",
       "      <td>2226.0</td>\n",
       "      <td>0.0</td>\n",
       "      <td>28699</td>\n",
       "      <td>0.0</td>\n",
       "    </tr>\n",
       "    <tr>\n",
       "      <th>14</th>\n",
       "      <td>3/7/2021</td>\n",
       "      <td>IA</td>\n",
       "      <td>5558</td>\n",
       "      <td>0.0</td>\n",
       "      <td>1044418.0</td>\n",
       "      <td>282384</td>\n",
       "      <td>320054.0</td>\n",
       "    </tr>\n",
       "    <tr>\n",
       "      <th>15</th>\n",
       "      <td>3/7/2021</td>\n",
       "      <td>ID</td>\n",
       "      <td>1879</td>\n",
       "      <td>7184.0</td>\n",
       "      <td>505964.0</td>\n",
       "      <td>172931</td>\n",
       "      <td>96017.0</td>\n",
       "    </tr>\n",
       "    <tr>\n",
       "      <th>16</th>\n",
       "      <td>3/7/2021</td>\n",
       "      <td>IL</td>\n",
       "      <td>23014</td>\n",
       "      <td>0.0</td>\n",
       "      <td>0.0</td>\n",
       "      <td>1198335</td>\n",
       "      <td>0.0</td>\n",
       "    </tr>\n",
       "    <tr>\n",
       "      <th>17</th>\n",
       "      <td>3/7/2021</td>\n",
       "      <td>IN</td>\n",
       "      <td>12737</td>\n",
       "      <td>43217.0</td>\n",
       "      <td>2483156.0</td>\n",
       "      <td>667262</td>\n",
       "      <td>0.0</td>\n",
       "    </tr>\n",
       "    <tr>\n",
       "      <th>18</th>\n",
       "      <td>3/7/2021</td>\n",
       "      <td>KS</td>\n",
       "      <td>4812</td>\n",
       "      <td>9387.0</td>\n",
       "      <td>974686.0</td>\n",
       "      <td>295861</td>\n",
       "      <td>0.0</td>\n",
       "    </tr>\n",
       "    <tr>\n",
       "      <th>19</th>\n",
       "      <td>3/7/2021</td>\n",
       "      <td>KY</td>\n",
       "      <td>4819</td>\n",
       "      <td>19457.0</td>\n",
       "      <td>0.0</td>\n",
       "      <td>410709</td>\n",
       "      <td>48145.0</td>\n",
       "    </tr>\n",
       "    <tr>\n",
       "      <th>20</th>\n",
       "      <td>3/7/2021</td>\n",
       "      <td>LA</td>\n",
       "      <td>9748</td>\n",
       "      <td>0.0</td>\n",
       "      <td>5261679.0</td>\n",
       "      <td>433785</td>\n",
       "      <td>415954.0</td>\n",
       "    </tr>\n",
       "  </tbody>\n",
       "</table>\n",
       "</div>"
      ],
      "text/plain": [
       "        date state  death  hospitalized   negative  positive  recovered\n",
       "0   3/7/2021    AK    305        1293.0        0.0     56886        0.0\n",
       "1   3/7/2021    AL  10148       45976.0  1931711.0    499819   295690.0\n",
       "2   3/7/2021    AR   5319       14926.0  2480716.0    324818   315517.0\n",
       "3   3/7/2021    AS      0           0.0     2140.0         0        0.0\n",
       "4   3/7/2021    AZ  16328       57907.0  3073010.0    826454        0.0\n",
       "5   3/7/2021    CA  54124           0.0        0.0   3501394        0.0\n",
       "6   3/7/2021    CO   5989       23904.0  2199458.0    436602        0.0\n",
       "7   3/7/2021    CT   7704           0.0        0.0    285330        0.0\n",
       "8   3/7/2021    DC   1030           0.0        0.0     41419    29570.0\n",
       "9   3/7/2021    DE   1473           0.0   545070.0     88354        0.0\n",
       "10  3/7/2021    FL  32266       82237.0  9339038.0   1909209        0.0\n",
       "11  3/7/2021    GA  17906       56797.0        0.0   1023487        0.0\n",
       "12  3/7/2021    GU    133           0.0   112887.0      7749     7590.0\n",
       "13  3/7/2021    HI    445        2226.0        0.0     28699        0.0\n",
       "14  3/7/2021    IA   5558           0.0  1044418.0    282384   320054.0\n",
       "15  3/7/2021    ID   1879        7184.0   505964.0    172931    96017.0\n",
       "16  3/7/2021    IL  23014           0.0        0.0   1198335        0.0\n",
       "17  3/7/2021    IN  12737       43217.0  2483156.0    667262        0.0\n",
       "18  3/7/2021    KS   4812        9387.0   974686.0    295861        0.0\n",
       "19  3/7/2021    KY   4819       19457.0        0.0    410709    48145.0\n",
       "20  3/7/2021    LA   9748           0.0  5261679.0    433785   415954.0"
      ]
     },
     "execution_count": 8,
     "metadata": {},
     "output_type": "execute_result"
    }
   ],
   "source": [
    "from sqlalchemy import create_engine\n",
    "import pandas as pd\n",
    "\n",
    "df = pd.read_csv(csv_path).fillna(value = 0)\n",
    "df"
   ]
  },
  {
   "cell_type": "code",
   "execution_count": 9,
   "id": "a4f045df-8811-4af5-9874-fc3f63b813c3",
   "metadata": {
    "height": 166
   },
   "outputs": [
    {
     "data": {
      "text/plain": [
       "21"
      ]
     },
     "execution_count": 9,
     "metadata": {},
     "output_type": "execute_result"
    }
   ],
   "source": [
    "database_file_path = os.path.join(data_path, \"test.db\")\n",
    "\n",
    "engine = create_engine(f'sqlite:///{database_file_path}')\n",
    "\n",
    "df.to_sql(\n",
    "    'all_states_history',\n",
    "    con=engine,\n",
    "    if_exists='replace',\n",
    "    index=False)"
   ]
  },
  {
   "cell_type": "markdown",
   "id": "dd8c6c50",
   "metadata": {},
   "source": [
    "### Create two functions"
   ]
  },
  {
   "cell_type": "code",
   "execution_count": 11,
   "id": "d89d871e-0d85-40f1-9851-91aa953f7339",
   "metadata": {
    "height": 370
   },
   "outputs": [],
   "source": [
    "import json\n",
    "import numpy as np\n",
    "from sqlalchemy import text\n",
    "\n",
    "# Define the functions\n",
    "def get_hospitalized_for_state_on_date(state_abbr, specific_date):\n",
    "    try:\n",
    "        query = f\"\"\"\n",
    "        SELECT date, state, hospitalized\n",
    "        FROM all_states_history\n",
    "        WHERE state = '{state_abbr}' AND date = '{specific_date}';\n",
    "        \"\"\"\n",
    "        query = text(query)\n",
    "\n",
    "        with engine.connect() as connection:\n",
    "            result = pd.read_sql_query(query, connection)\n",
    "        if not result.empty:\n",
    "            return result.to_dict('records')[0]\n",
    "        else:\n",
    "            return np.nan\n",
    "    except Exception as e:\n",
    "        print(e)\n",
    "        return np.nan\n",
    "\n",
    "def get_positive_cases_for_state_on_date(state_abbr, specific_date):\n",
    "    try:\n",
    "        query = f\"\"\"\n",
    "        SELECT date, state, positive AS positive_cases\n",
    "        FROM all_states_history\n",
    "        WHERE state = '{state_abbr}' AND date = '{specific_date}';\n",
    "        \"\"\"\n",
    "        query = text(query)\n",
    "\n",
    "        with engine.connect() as connection:\n",
    "            result = pd.read_sql_query(query, connection)\n",
    "        if not result.empty:\n",
    "            return result.to_dict('records')[0]\n",
    "        else:\n",
    "            return np.nan\n",
    "    except Exception as e:\n",
    "        print(e)\n",
    "        return np.nan"
   ]
  },
  {
   "cell_type": "code",
   "execution_count": 12,
   "id": "d235c9f0-9377-46d1-880c-c2a5da3f2bc9",
   "metadata": {
    "height": 30
   },
   "outputs": [
    {
     "data": {
      "text/plain": [
       "{'date': '3/7/2021', 'state': 'AK', 'hospitalized': 1293.0}"
      ]
     },
     "execution_count": 12,
     "metadata": {},
     "output_type": "execute_result"
    }
   ],
   "source": [
    "get_hospitalized_for_state_on_date(\"AK\",\"3/7/2021\")"
   ]
  },
  {
   "cell_type": "code",
   "execution_count": 13,
   "id": "68f30051",
   "metadata": {},
   "outputs": [
    {
     "data": {
      "text/plain": [
       "{'date': '3/7/2021', 'state': 'AK', 'positive_cases': 56886}"
      ]
     },
     "execution_count": 13,
     "metadata": {},
     "output_type": "execute_result"
    }
   ],
   "source": [
    "get_positive_cases_for_state_on_date(\"AK\",\"3/7/2021\")"
   ]
  },
  {
   "cell_type": "markdown",
   "id": "58a111f7",
   "metadata": {},
   "source": [
    "### Execute the function calling against the SQL database"
   ]
  },
  {
   "cell_type": "code",
   "execution_count": 14,
   "id": "8aeb5c3e",
   "metadata": {},
   "outputs": [
    {
     "name": "stdout",
     "output_type": "stream",
     "text": [
      "[ChatCompletionMessageToolCall(id='call_Z2UyvhDrdkI54ejwT0rI44Ql', function=Function(arguments='{\\n  \"state_abbr\": \"AK\",\\n  \"specific_date\": \"3/7/2021\"\\n}', name='get_hospitalized_for_state_on_date'), type='function')]\n",
      "[{'role': 'user', 'content': ' how many hospitalized people we had in Alaska\\n                    the 3/7/2021?'}, ChatCompletionMessage(content=None, role='assistant', function_call=None, tool_calls=[ChatCompletionMessageToolCall(id='call_Z2UyvhDrdkI54ejwT0rI44Ql', function=Function(arguments='{\\n  \"state_abbr\": \"AK\",\\n  \"specific_date\": \"3/7/2021\"\\n}', name='get_hospitalized_for_state_on_date'), type='function')]), {'tool_call_id': 'call_Z2UyvhDrdkI54ejwT0rI44Ql', 'role': 'tool', 'name': 'get_hospitalized_for_state_on_date', 'content': \"{'date': '3/7/2021', 'state': 'AK', 'hospitalized': 1293.0}\"}]\n",
      "\n",
      "Final Response:\n",
      "On March 7, 2021, there were 1,293 hospitalized people in Alaska.\n"
     ]
    }
   ],
   "source": [
    "# Define the messages and tools\n",
    "messages = [\n",
    "    {\"role\": \"user\",\n",
    "     \"content\": \"\"\" how many hospitalized people we had in Alaska\n",
    "                    the 3/7/2021?\"\"\"\n",
    "    }\n",
    "]\n",
    "\n",
    "tools_sql = [\n",
    "    {\n",
    "        \"type\": \"function\",\n",
    "        \"function\": {\n",
    "            \"name\": \"get_hospitalized_for_state_on_date\",\n",
    "            \"description\": \"\"\"Retrieves the number of hospitalized people\n",
    "                              for a specific state on a specific date.\"\"\",\n",
    "            \"parameters\": {\n",
    "                \"type\": \"object\",\n",
    "                \"properties\": {\n",
    "                    \"state_abbr\": {\n",
    "                        \"type\": \"string\",\n",
    "                        \"description\": \"\"\"The abbreviation of the state\n",
    "                                          (e.g., 'NY', 'CA').\"\"\"\n",
    "                    },\n",
    "                    \"specific_date\": {\n",
    "                        \"type\": \"string\",\n",
    "                        \"description\": \"\"\"The specific date for\n",
    "                                          the query in 'M/D/YYYY'\n",
    "                                          format.\"\"\"\n",
    "                    }\n",
    "                },\n",
    "                \"required\": [\"state_abbr\", \"specific_date\"]\n",
    "            }\n",
    "        }\n",
    "    },\n",
    "    {\n",
    "        \"type\": \"function\",\n",
    "        \"function\": {\n",
    "            \"name\": \"get_positive_cases_for_state_on_date\",\n",
    "            \"description\": \"\"\"Retrieves the number of positive cases\n",
    "                              for a specific state on a specific date.\"\"\",\n",
    "            \"parameters\": {\n",
    "                \"type\": \"object\",\n",
    "                \"properties\": {\n",
    "                    \"state_abbr\": {\n",
    "                        \"type\": \"string\",\n",
    "                        \"description\": \"\"\"The abbreviation of the \n",
    "                                          state (e.g., 'NY', 'CA').\"\"\"\n",
    "                    },\n",
    "                    \"specific_date\": {\n",
    "                        \"type\": \"string\",\n",
    "                        \"description\": \"\"\"The specific date for the\n",
    "                                          query in 'M/D/YYYY'\n",
    "                                          format.\"\"\"\n",
    "                    }\n",
    "                },\n",
    "                \"required\": [\"state_abbr\", \"specific_date\"]\n",
    "            }\n",
    "        }\n",
    "    }\n",
    "]\n",
    "\n",
    "response = client.chat.completions.create(\n",
    "    model=\"gpt-35-turbo\",\n",
    "    messages=messages,\n",
    "    tools=tools_sql,\n",
    "    tool_choice=\"auto\",\n",
    ")\n",
    "\n",
    "response_message = response.choices[0].message\n",
    "tool_calls = response_message.tool_calls\n",
    "\n",
    "if tool_calls:\n",
    "    print(tool_calls)\n",
    "    \n",
    "    available_functions = {\n",
    "        \"get_positive_cases_for_state_on_date\": get_positive_cases_for_state_on_date,\n",
    "        \"get_hospitalized_for_state_on_date\": get_hospitalized_for_state_on_date\n",
    "    }  \n",
    "    messages.append(response_message)  \n",
    "   \n",
    "    for tool_call in tool_calls:\n",
    "        function_name = tool_call.function.name\n",
    "        if function_name in available_functions:\n",
    "            function_to_call = available_functions[function_name]\n",
    "            function_args = json.loads(tool_call.function.arguments)\n",
    "            function_response = function_to_call(\n",
    "                state_abbr=function_args.get(\"state_abbr\"),\n",
    "                specific_date=function_args.get(\"specific_date\"),\n",
    "            )\n",
    "            messages.append(\n",
    "                {\n",
    "                    \"tool_call_id\": tool_call.id,\n",
    "                    \"role\": \"tool\",\n",
    "                    \"name\": function_name,\n",
    "                    \"content\": str(function_response),\n",
    "                }\n",
    "            ) \n",
    "        else:\n",
    "            print(f\"Function {function_name} is not available.\")\n",
    "    print(messages)\n",
    "\n",
    "    second_response = client.chat.completions.create(\n",
    "        model=\"gpt-35-turbo\",\n",
    "        messages=messages,\n",
    "    )\n",
    "\n",
    "# Organize and print the final response\n",
    "final_message = second_response.choices[0].message.content\n",
    "print(\"\\nFinal Response:\")\n",
    "print(final_message)"
   ]
  }
 ],
 "metadata": {
  "kernelspec": {
   "display_name": "Python 3",
   "language": "python",
   "name": "python3"
  },
  "language_info": {
   "codemirror_mode": {
    "name": "ipython",
    "version": 3
   },
   "file_extension": ".py",
   "mimetype": "text/x-python",
   "name": "python",
   "nbconvert_exporter": "python",
   "pygments_lexer": "ipython3",
   "version": "3.12.6"
  }
 },
 "nbformat": 4,
 "nbformat_minor": 5
}
